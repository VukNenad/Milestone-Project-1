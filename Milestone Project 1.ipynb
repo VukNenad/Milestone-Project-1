{
 "cells": [
  {
   "cell_type": "code",
   "execution_count": 1,
   "id": "5a44011c",
   "metadata": {},
   "outputs": [],
   "source": [
    "#Step1 Tic Tac\n",
    "# Step 1: Write a function that can print out a board. Set up your board as a list, where each index 1-9 corresponds with a number on a number pad, so you get a 3 by 3 board representation."
   ]
  },
  {
   "cell_type": "code",
   "execution_count": 9,
   "id": "87584278",
   "metadata": {},
   "outputs": [],
   "source": [
    "from IPython.display import clear_output\n",
    "\n",
    "def display_board(board):\n",
    "    clear_output() #This Only works in Jupyter Notebook\n",
    "    \n",
    "    print(board[1]+\"|\"+board[2]+\"|\"+board[3])\n",
    "    print(board[4]+\"|\"+board[5]+\"|\"+board[6])\n",
    "    print(board[7]+\"|\"+board[8]+\"|\"+board[9])"
   ]
  },
  {
   "cell_type": "code",
   "execution_count": 11,
   "id": "97a74e47",
   "metadata": {},
   "outputs": [
    {
     "name": "stdout",
     "output_type": "stream",
     "text": [
      "X|O|X\n",
      "O|X|O\n",
      "X|O|X\n"
     ]
    }
   ],
   "source": [
    "#run your function on a test version of the board list, and make adjustments as necessary\n",
    "test_board = [\"#\",'X','O','X','O','X','O','X','O','X']\n",
    "display_board(test_board) #The display_board function is then called with test_board as an argument"
   ]
  },
  {
   "cell_type": "code",
   "execution_count": 12,
   "id": "5fb83ee4",
   "metadata": {},
   "outputs": [],
   "source": [
    "#Write a function that can take in a player input and assign their marker as 'X' or 'O'. Think about using while loops to continually ask until you get a correct answer.\n",
    "\n",
    "def player_input():\n",
    "    marker = \"\"\n",
    "    \n",
    "    #Keep asking player 1 to choose X or 0\n",
    "    \n",
    "    while not (marker == \"X\" or marker == \"O\"):   \n",
    "        marker = input (\"Player 1, choose X or O: \").upper()\n",
    "        \n",
    "        #Assign Player 2, the opposite marker\n",
    "    \n",
    "    if marker == \"X\":\n",
    "        return (\"X\", \"O\")\n",
    "    else:\n",
    "        return (\"O\", \"X\") #If the input is “X”, the function returns a tuple (\"X\", \"O\").Otherwise (if the input is “O”), it returns a tuple (\"O\", \"X\").\n",
    "        "
   ]
  },
  {
   "cell_type": "code",
   "execution_count": 13,
   "id": "cfb62f64",
   "metadata": {},
   "outputs": [
    {
     "name": "stdout",
     "output_type": "stream",
     "text": [
      "Player 1, choose X or O: S\n",
      "Player 1, choose X or O: x\n"
     ]
    },
    {
     "data": {
      "text/plain": [
       "('X', 'O')"
      ]
     },
     "execution_count": 13,
     "metadata": {},
     "output_type": "execute_result"
    }
   ],
   "source": [
    "#run the function to make sure it returns the desired output\n",
    "player_input()"
   ]
  },
  {
   "cell_type": "code",
   "execution_count": 43,
   "id": "1ad34b61",
   "metadata": {},
   "outputs": [],
   "source": [
    "#Write a function that takes in the board list object, a marker ('X' or 'O'), and a desired position (number 1-9) and assigns it to the board.\n",
    "\n",
    "def place_marker(board, marker, position):\n",
    "    board[position] = marker"
   ]
  },
  {
   "cell_type": "code",
   "execution_count": 44,
   "id": "87bfa002",
   "metadata": {},
   "outputs": [
    {
     "name": "stdout",
     "output_type": "stream",
     "text": [
      "X|O|X\n",
      "O|X|O\n",
      "X|$|X\n"
     ]
    }
   ],
   "source": [
    "#run the place marker function using test parameters and display the modified board\n",
    "place_marker(test_board, \"$\",8)\n",
    "display_board(test_board)"
   ]
  },
  {
   "cell_type": "code",
   "execution_count": 45,
   "id": "b6277946",
   "metadata": {},
   "outputs": [],
   "source": [
    "#Write a function that takes in a board and checks to see if someone has won\n",
    "def win_check(board,mark):\n",
    "    return ((board[7] == mark and board[8] == mark and board[9] == mark) or # across the bottom\n",
    "    (board[4] == mark and board[5] == mark and board[6] == mark) or # across the middle\n",
    "    (board[1] == mark and board[2] == mark and board[3] == mark) or # across the top\n",
    "    (board[7] == mark and board[4] == mark and board[1] == mark) or # up the middle\n",
    "    (board[8] == mark and board[5] == mark and board[2] == mark) or # up the middle\n",
    "    (board[9] == mark and board[6] == mark and board[3] == mark) or # up the right side\n",
    "    (board[7] == mark and board[5] == mark and board[3] == mark) or # diagonal\n",
    "    (board[9] == mark and board[5] == mark and board[1] == mark)) # diagonal"
   ]
  },
  {
   "cell_type": "code",
   "execution_count": 46,
   "id": "0cbb7284",
   "metadata": {},
   "outputs": [
    {
     "data": {
      "text/plain": [
       "True"
      ]
     },
     "execution_count": 46,
     "metadata": {},
     "output_type": "execute_result"
    }
   ],
   "source": [
    "#run the win_check function against our test_board - it should return True\n",
    "win_check(test_board,'X')"
   ]
  },
  {
   "cell_type": "code",
   "execution_count": 48,
   "id": "9228074f",
   "metadata": {},
   "outputs": [],
   "source": [
    "#Write a function that uses the random module to randomly decide which player goes first. You may want to lookup random.randint() Return a string of which player went first.\n",
    "\n",
    "import random\n",
    "\n",
    "def choose_first():\n",
    "    if random.randint(0, 1) == 0:\n",
    "        return 'Player 2'\n",
    "    else:\n",
    "        return 'Player 1'"
   ]
  },
  {
   "cell_type": "code",
   "execution_count": 50,
   "id": "b02a8b25",
   "metadata": {},
   "outputs": [],
   "source": [
    "#Write a function that returns a boolean indicating whether a space on the board is freely available.\n",
    "\n",
    "def space_check(board, position):\n",
    "    \n",
    "    return board[position] == ' '"
   ]
  },
  {
   "cell_type": "code",
   "execution_count": 51,
   "id": "3f1cc7f1",
   "metadata": {},
   "outputs": [],
   "source": [
    "#Write a function that checks if the board is full and returns a boolean value. True if full, False otherwise\n",
    "def full_board_check(board):\n",
    "    for i in range(1,10):\n",
    "        if space_check(board, i):\n",
    "            return False\n",
    "    return True"
   ]
  },
  {
   "cell_type": "code",
   "execution_count": 52,
   "id": "0458f50f",
   "metadata": {},
   "outputs": [],
   "source": [
    "#Write a function that asks for a player's next position (as a number 1-9) and then uses the function from step 6 to check if its a free position. If it is, then return the position for later use. **\n",
    "def player_choice(board):\n",
    "    position = 0\n",
    "    \n",
    "    while position not in [1,2,3,4,5,6,7,8,9] or not space_check(board, position):\n",
    "        position = int(input('Choose your next position: (1-9) '))\n",
    "        \n",
    "    return position"
   ]
  },
  {
   "cell_type": "code",
   "execution_count": 53,
   "id": "43fb85a3",
   "metadata": {},
   "outputs": [],
   "source": [
    "#Write a function that asks the player if they want to play again and returns a boolean True if they do want to play again.\n",
    "def replay():\n",
    "    \n",
    "    return input('Do you want to play again? Enter Yes or No: ').lower().startswith('y')"
   ]
  },
  {
   "cell_type": "code",
   "execution_count": null,
   "id": "9e661ad7",
   "metadata": {},
   "outputs": [
    {
     "name": "stdout",
     "output_type": "stream",
     "text": [
      "Welcome to Tic Tac Toe!\n"
     ]
    }
   ],
   "source": [
    "#Here comes the hard part! Use while loops and the functions you've made to run the game!\n",
    "\n",
    "print('Welcome to Tic Tac Toe!')\n",
    "\n",
    "while True:\n",
    "    # Reset the board\n",
    "    theBoard = [' '] * 10\n",
    "    player1_marker, player2_marker = player_input()\n",
    "    turn = choose_first()\n",
    "    print(turn + ' will go first.')\n",
    "    \n",
    "    play_game = input('Are you ready to play? Enter Yes or No.')\n",
    "    \n",
    "    if play_game.lower()[0] == 'y':\n",
    "        game_on = True\n",
    "    else:\n",
    "        game_on = False\n",
    "\n",
    "    while game_on:\n",
    "        if turn == 'Player 1':\n",
    "            # Player1's turn.\n",
    "            \n",
    "            display_board(theBoard)\n",
    "            position = player_choice(theBoard)\n",
    "            place_marker(theBoard, player1_marker, position)\n",
    "\n",
    "            if win_check(theBoard, player1_marker):\n",
    "                display_board(theBoard)\n",
    "                print('Congratulations! You have won the game!')\n",
    "                game_on = False\n",
    "            else:\n",
    "                if full_board_check(theBoard):\n",
    "                    display_board(theBoard)\n",
    "                    print('The game is a draw!')\n",
    "                    break\n",
    "                else:\n",
    "                    turn = 'Player 2'\n",
    "\n",
    "        else:\n",
    "            # Player2's turn.\n",
    "            \n",
    "            display_board(theBoard)\n",
    "            position = player_choice(theBoard)\n",
    "            place_marker(theBoard, player2_marker, position)\n",
    "\n",
    "            if win_check(theBoard, player2_marker):\n",
    "                display_board(theBoard)\n",
    "                print('Player 2 has won!')\n",
    "                game_on = False\n",
    "            else:\n",
    "                if full_board_check(theBoard):\n",
    "                    display_board(theBoard)\n",
    "                    print('The game is a draw!')\n",
    "                    break\n",
    "                else:\n",
    "                    turn = 'Player 1'\n",
    "\n",
    "    if not replay():\n",
    "        break"
   ]
  },
  {
   "cell_type": "code",
   "execution_count": null,
   "id": "430083cf",
   "metadata": {},
   "outputs": [],
   "source": []
  }
 ],
 "metadata": {
  "kernelspec": {
   "display_name": "Python 3 (ipykernel)",
   "language": "python",
   "name": "python3"
  },
  "language_info": {
   "codemirror_mode": {
    "name": "ipython",
    "version": 3
   },
   "file_extension": ".py",
   "mimetype": "text/x-python",
   "name": "python",
   "nbconvert_exporter": "python",
   "pygments_lexer": "ipython3",
   "version": "3.9.12"
  }
 },
 "nbformat": 4,
 "nbformat_minor": 5
}
